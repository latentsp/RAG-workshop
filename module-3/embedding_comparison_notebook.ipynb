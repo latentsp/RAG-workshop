{
  "cells": [
    {
      "cell_type": "markdown",
      "metadata": {
        "vscode": {
          "languageId": "raw"
        }
      },
      "source": [
        "# Embedding Model Comparison: How Topics Cluster Differently 🎯\n",
        "\n",
        "This notebook demonstrates how different embedding models create different vector representations for the same text, leading to different semantic clustering patterns.\n",
        "\n",
        "## What We'll Explore:\n",
        "- 🤖 **OpenAI** vs **HuggingFace** embedders\n",
        "- 📊 Visualizing topic clusters in 2D space\n",
        "- 🔍 Analyzing similarity scores between topics\n",
        "- 🎨 Interactive plots showing clustering differences\n",
        "\n",
        "## Key Learning: \n",
        "Different embedders have different \"opinions\" about what topics are similar!\n"
      ]
    },
    {
      "cell_type": "code",
      "execution_count": 4,
      "metadata": {},
      "outputs": [
        {
          "name": "stdout",
          "output_type": "stream",
          "text": [
            "✅ All libraries imported successfully!\n"
          ]
        }
      ],
      "source": [
        "# Import required libraries\n",
        "import os\n",
        "import numpy as np\n",
        "import pandas as pd\n",
        "import matplotlib.pyplot as plt\n",
        "import seaborn as sns\n",
        "from sklearn.manifold import TSNE\n",
        "from sklearn.decomposition import PCA\n",
        "from sklearn.metrics.pairwise import cosine_similarity\n",
        "import plotly.express as px\n",
        "import plotly.graph_objects as go\n",
        "from plotly.subplots import make_subplots\n",
        "import warnings\n",
        "warnings.filterwarnings('ignore')\n",
        "\n",
        "# Import embedders (using existing workshop infrastructure)\n",
        "import sys\n",
        "sys.path.append('../module-2')\n",
        "from utility_2 import do_get_embedder\n",
        "\n",
        "print(\"✅ All libraries imported successfully!\")\n"
      ]
    },
    {
      "cell_type": "markdown",
      "metadata": {
        "vscode": {
          "languageId": "raw"
        }
      },
      "source": [
        "## 📝 Define Our Test Topics\n",
        "\n",
        "We'll use diverse topics to see how different embedders cluster them:\n"
      ]
    },
    {
      "cell_type": "code",
      "execution_count": 5,
      "metadata": {},
      "outputs": [
        {
          "name": "stdout",
          "output_type": "stream",
          "text": [
            "📋 Defined 22 topics across multiple domains:\n",
            " 1. Artificial Intelligence\n",
            " 2. Machine Learning\n",
            " 3. Deep Learning\n",
            " 4. Data Science\n",
            " 5. Programming\n",
            " 6. Software Engineering\n",
            " 7. Physics\n",
            " 8. Chemistry\n",
            " 9. Biology\n",
            "10. Mathematics\n",
            "11. Painting\n",
            "12. Music\n",
            "13. Literature\n",
            "14. Theater\n",
            "15. Football\n",
            "16. Basketball\n",
            "17. Tennis\n",
            "18. Swimming\n",
            "19. Italian Cuisine\n",
            "20. Japanese Cuisine\n",
            "21. Baking\n",
            "22. Vegetarian Cooking\n"
          ]
        }
      ],
      "source": [
        "# Define test topics across different domains\n",
        "topics = {\n",
        "    # Technology\n",
        "    \"Artificial Intelligence\": \"Machine learning algorithms that can learn and make decisions like humans\",\n",
        "    \"Machine Learning\": \"Computer systems that automatically improve through experience using data\",\n",
        "    \"Deep Learning\": \"Neural networks with multiple layers that can learn complex patterns\",\n",
        "    \"Data Science\": \"Extracting insights and knowledge from structured and unstructured data\",\n",
        "    \"Programming\": \"Writing instructions for computers to execute specific tasks\",\n",
        "    \"Software Engineering\": \"Systematic approach to designing and building software applications\",\n",
        "    \n",
        "    # Science\n",
        "    \"Physics\": \"Study of matter, energy, and their interactions in the universe\",\n",
        "    \"Chemistry\": \"Science of atoms, molecules, and chemical reactions\",\n",
        "    \"Biology\": \"Study of living organisms and their life processes\",\n",
        "    \"Mathematics\": \"Abstract science of numbers, quantity, structure, and space\",\n",
        "    \n",
        "    # Arts & Culture\n",
        "    \"Painting\": \"Visual art using pigments and brushes to create images on canvas\",\n",
        "    \"Music\": \"Art form using sound, rhythm, and melody to express emotions\",\n",
        "    \"Literature\": \"Written works including novels, poetry, and plays\",\n",
        "    \"Theater\": \"Performing art involving actors presenting stories on stage\",\n",
        "    \n",
        "    # Sports\n",
        "    \"Football\": \"Team sport played with oval ball and goal posts\",\n",
        "    \"Basketball\": \"Team sport where players score by shooting ball through hoops\",\n",
        "    \"Tennis\": \"Racket sport played on a court with a net\",\n",
        "    \"Swimming\": \"Sport of moving through water using various stroke techniques\",\n",
        "    \n",
        "    # Food\n",
        "    \"Italian Cuisine\": \"Traditional cooking from Italy featuring pasta, pizza, and regional dishes\",\n",
        "    \"Japanese Cuisine\": \"Traditional Japanese cooking including sushi, ramen, and seasonal ingredients\",\n",
        "    \"Baking\": \"Cooking method using dry heat to make bread, cakes, and pastries\",\n",
        "    \"Vegetarian Cooking\": \"Food preparation without meat, focusing on plant-based ingredients\"\n",
        "}\n",
        "\n",
        "topic_names = list(topics.keys())\n",
        "topic_descriptions = list(topics.values())\n",
        "\n",
        "print(f\"📋 Defined {len(topics)} topics across multiple domains:\")\n",
        "for i, (name, desc) in enumerate(topics.items()):\n",
        "    print(f\"{i+1:2d}. {name}\")\n"
      ]
    },
    {
      "cell_type": "markdown",
      "metadata": {
        "vscode": {
          "languageId": "raw"
        }
      },
      "source": [
        "## 🤖 Initialize Embedders\n",
        "\n",
        "Let's set up our two different embedding models:\n"
      ]
    },
    {
      "cell_type": "code",
      "execution_count": 6,
      "metadata": {},
      "outputs": [
        {
          "name": "stdout",
          "output_type": "stream",
          "text": [
            "✅ OpenAI embedder initialized\n",
            "✅ HuggingFace embedder initialized\n"
          ]
        }
      ],
      "source": [
        "def do_initialize_embedders():\n",
        "    \"\"\"Initialize both OpenAI and HuggingFace embedders.\"\"\"\n",
        "    embedders = {}\n",
        "    \n",
        "    # Try OpenAI embedder\n",
        "    try:\n",
        "        embedders['OpenAI'] = do_get_embedder('openai')\n",
        "        print(\"✅ OpenAI embedder initialized\")\n",
        "    except Exception as e:\n",
        "        print(f\"⚠️  OpenAI embedder failed: {e}\")\n",
        "        print(\"💡 Make sure OPENAI_API_KEY is set in your environment\")\n",
        "    \n",
        "    # Try HuggingFace embedder (usually works without API key)\n",
        "    try:\n",
        "        embedders['HuggingFace'] = do_get_embedder('huggingface')\n",
        "        print(\"✅ HuggingFace embedder initialized\")\n",
        "    except Exception as e:\n",
        "        print(f\"⚠️  HuggingFace embedder failed: {e}\")\n",
        "        print(\"💡 Try: pip install langchain-huggingface sentence-transformers\")\n",
        "    \n",
        "    return embedders\n",
        "\n",
        "embedders = do_initialize_embedders()\n"
      ]
    },
    {
      "cell_type": "markdown",
      "metadata": {
        "vscode": {
          "languageId": "raw"
        }
      },
      "source": [
        "## 🎯 Generate Embeddings\n",
        "\n",
        "Now let's create vector embeddings for all our topics using both models:\n"
      ]
    },
    {
      "cell_type": "code",
      "execution_count": 7,
      "metadata": {},
      "outputs": [
        {
          "name": "stdout",
          "output_type": "stream",
          "text": [
            "🔄 Generating embeddings with OpenAI...\n",
            "✅ OpenAI: 22 embeddings of dimension 1536\n",
            "🔄 Generating embeddings with HuggingFace...\n",
            "✅ HuggingFace: 22 embeddings of dimension 384\n",
            "\n",
            "📊 Generated embeddings for 2 models\n"
          ]
        }
      ],
      "source": [
        "def do_generate_embeddings(embedders, texts):\n",
        "    \"\"\"Generate embeddings for all texts using all available embedders.\"\"\"\n",
        "    embeddings_data = {}\n",
        "    \n",
        "    for embedder_name, embedder in embedders.items():\n",
        "        print(f\"🔄 Generating embeddings with {embedder_name}...\")\n",
        "        try:\n",
        "            # Get embeddings for all texts\n",
        "            vectors = embedder.embed_documents(texts)\n",
        "            embeddings_data[embedder_name] = np.array(vectors)\n",
        "            print(f\"✅ {embedder_name}: {len(vectors)} embeddings of dimension {len(vectors[0])}\")\n",
        "        except Exception as e:\n",
        "            print(f\"❌ {embedder_name} failed: {e}\")\n",
        "            continue\n",
        "    \n",
        "    return embeddings_data\n",
        "\n",
        "# Generate embeddings using topic descriptions\n",
        "embeddings_data = do_generate_embeddings(embedders, topic_descriptions)\n",
        "\n",
        "print(f\"\\n📊 Generated embeddings for {len(embeddings_data)} models\")\n"
      ]
    },
    {
      "cell_type": "markdown",
      "metadata": {
        "vscode": {
          "languageId": "raw"
        }
      },
      "source": [
        "## 📈 Calculate Similarity Matrices\n",
        "\n",
        "Let's see how similar each topic is to every other topic according to each embedder:\n"
      ]
    },
    {
      "cell_type": "code",
      "execution_count": 8,
      "metadata": {},
      "outputs": [
        {
          "name": "stdout",
          "output_type": "stream",
          "text": [
            "📊 OpenAI similarity matrix: (22, 22)\n",
            "📊 HuggingFace similarity matrix: (22, 22)\n"
          ]
        }
      ],
      "source": [
        "def do_calculate_similarity_matrices(embeddings_data, topic_names):\n",
        "    \"\"\"Calculate cosine similarity matrices for each embedder.\"\"\"\n",
        "    similarity_matrices = {}\n",
        "    \n",
        "    for embedder_name, embeddings in embeddings_data.items():\n",
        "        # Calculate cosine similarity\n",
        "        similarity_matrix = cosine_similarity(embeddings)\n",
        "        \n",
        "        # Convert to DataFrame for easier handling\n",
        "        similarity_df = pd.DataFrame(\n",
        "            similarity_matrix, \n",
        "            index=topic_names, \n",
        "            columns=topic_names\n",
        "        )\n",
        "        \n",
        "        similarity_matrices[embedder_name] = similarity_df\n",
        "        \n",
        "        print(f\"📊 {embedder_name} similarity matrix: {similarity_matrix.shape}\")\n",
        "    \n",
        "    return similarity_matrices\n",
        "\n",
        "similarity_matrices = do_calculate_similarity_matrices(embeddings_data, topic_names)\n"
      ]
    },
    {
      "cell_type": "markdown",
      "metadata": {
        "vscode": {
          "languageId": "raw"
        }
      },
      "source": [
        "## 🎨 Visualize Similarity Heatmaps\n",
        "\n",
        "Let's create side-by-side heatmaps to compare how each embedder sees topic relationships:\n"
      ]
    },
    {
      "cell_type": "code",
      "execution_count": 9,
      "metadata": {},
      "outputs": [
        {
          "data": {
            "image/png": "[encoded data removed]",
            "text/plain": [
              "<Figure size 2000x800 with 4 Axes>"
            ]
          },
          "metadata": {},
          "output_type": "display_data"
        }
      ],
      "source": [
        "def do_plot_similarity_heatmaps(similarity_matrices):\n",
        "    \"\"\"Create side-by-side heatmaps showing similarity matrices.\"\"\"\n",
        "    embedder_names = list(similarity_matrices.keys())\n",
        "    \n",
        "    if len(embedder_names) < 2:\n",
        "        print(\"⚠️  Need at least 2 embedders for comparison\")\n",
        "        return\n",
        "    \n",
        "    fig, axes = plt.subplots(1, 2, figsize=(20, 8))\n",
        "    \n",
        "    for i, embedder_name in enumerate(embedder_names[:2]):\n",
        "        similarity_df = similarity_matrices[embedder_name]\n",
        "        \n",
        "        # Create heatmap\n",
        "        sns.heatmap(\n",
        "            similarity_df, \n",
        "            annot=False, \n",
        "            cmap='RdYlBu_r', \n",
        "            center=0.5,\n",
        "            square=True,\n",
        "            ax=axes[i],\n",
        "            cbar_kws={'label': 'Cosine Similarity'}\n",
        "        )\n",
        "        \n",
        "        axes[i].set_title(f'{embedder_name} Embedder\\nTopic Similarity Matrix', \n",
        "                         fontsize=14, fontweight='bold')\n",
        "        axes[i].set_xlabel('Topics', fontsize=12)\n",
        "        axes[i].set_ylabel('Topics', fontsize=12)\n",
        "        \n",
        "        # Rotate labels for better readability\n",
        "        axes[i].tick_params(axis='x', rotation=45)\n",
        "        axes[i].tick_params(axis='y', rotation=0)\n",
        "    \n",
        "    plt.tight_layout()\n",
        "    plt.show()\n",
        "\n",
        "do_plot_similarity_heatmaps(similarity_matrices)\n"
      ]
    },
    {
      "cell_type": "markdown",
      "metadata": {
        "vscode": {
          "languageId": "raw"
        }
      },
      "source": [
        "## 🔍 Find Most Different Similarity Pairs\n",
        "\n",
        "Let's identify which topic pairs have the most different similarity scores between embedders:\n"
      ]
    },
    {
      "cell_type": "code",
      "execution_count": 10,
      "metadata": {},
      "outputs": [
        {
          "name": "stdout",
          "output_type": "stream",
          "text": [
            "🔍 Topic pairs with biggest similarity differences:\n",
            "   (OpenAI vs HuggingFace)\n",
            "\n",
            "Mathematics ↔ Theater\n",
            "  OpenAI: 0.750\n",
            "  HuggingFace: -0.090\n",
            "  Difference: +0.840\n",
            "\n",
            "Tennis ↔ Japanese Cuisine\n",
            "  OpenAI: 0.749\n",
            "  HuggingFace: -0.083\n",
            "  Difference: +0.832\n",
            "\n",
            "Chemistry ↔ Football\n",
            "  OpenAI: 0.743\n",
            "  HuggingFace: -0.082\n",
            "  Difference: +0.824\n",
            "\n",
            "Data Science ↔ Painting\n",
            "  OpenAI: 0.749\n",
            "  HuggingFace: -0.065\n",
            "  Difference: +0.815\n",
            "\n",
            "Artificial Intelligence ↔ Japanese Cuisine\n",
            "  OpenAI: 0.737\n",
            "  HuggingFace: -0.076\n",
            "  Difference: +0.813\n",
            "\n",
            "Physics ↔ Tennis\n",
            "  OpenAI: 0.737\n",
            "  HuggingFace: -0.067\n",
            "  Difference: +0.804\n",
            "\n",
            "Physics ↔ Swimming\n",
            "  OpenAI: 0.729\n",
            "  HuggingFace: -0.070\n",
            "  Difference: +0.799\n",
            "\n",
            "Physics ↔ Basketball\n",
            "  OpenAI: 0.751\n",
            "  HuggingFace: -0.048\n",
            "  Difference: +0.799\n",
            "\n",
            "Physics ↔ Theater\n",
            "  OpenAI: 0.750\n",
            "  HuggingFace: -0.045\n",
            "  Difference: +0.795\n",
            "\n",
            "Swimming ↔ Vegetarian Cooking\n",
            "  OpenAI: 0.733\n",
            "  HuggingFace: -0.062\n",
            "  Difference: +0.795\n",
            "\n"
          ]
        }
      ],
      "source": [
        "def do_find_similarity_differences(similarity_matrices):\n",
        "    \"\"\"Find topic pairs with biggest similarity differences between embedders.\"\"\"\n",
        "    embedder_names = list(similarity_matrices.keys())\n",
        "    \n",
        "    if len(embedder_names) < 2:\n",
        "        print(\"⚠️  Need at least 2 embedders for comparison\")\n",
        "        return\n",
        "    \n",
        "    # Get the two similarity matrices\n",
        "    sim1 = similarity_matrices[embedder_names[0]]\n",
        "    sim2 = similarity_matrices[embedder_names[1]]\n",
        "    \n",
        "    # Calculate difference matrix\n",
        "    diff_matrix = sim1 - sim2\n",
        "    \n",
        "    # Get upper triangle (avoid diagonal and duplicates)\n",
        "    n = len(diff_matrix)\n",
        "    differences = []\n",
        "    \n",
        "    for i in range(n):\n",
        "        for j in range(i+1, n):\n",
        "            topic1 = diff_matrix.index[i]\n",
        "            topic2 = diff_matrix.columns[j]\n",
        "            diff = diff_matrix.iloc[i, j]\n",
        "            sim1_val = sim1.iloc[i, j]\n",
        "            sim2_val = sim2.iloc[i, j]\n",
        "            \n",
        "            differences.append({\n",
        "                'Topic 1': topic1,\n",
        "                'Topic 2': topic2,\n",
        "                f'{embedder_names[0]} Similarity': sim1_val,\n",
        "                f'{embedder_names[1]} Similarity': sim2_val,\n",
        "                'Difference': diff,\n",
        "                'Abs Difference': abs(diff)\n",
        "            })\n",
        "    \n",
        "    # Convert to DataFrame and sort by absolute difference\n",
        "    diff_df = pd.DataFrame(differences)\n",
        "    diff_df = diff_df.sort_values('Abs Difference', ascending=False)\n",
        "    \n",
        "    print(f\"🔍 Topic pairs with biggest similarity differences:\")\n",
        "    print(f\"   ({embedder_names[0]} vs {embedder_names[1]})\\n\")\n",
        "    \n",
        "    # Show top 10 differences\n",
        "    for i, row in diff_df.head(10).iterrows():\n",
        "        print(f\"{row['Topic 1']} ↔ {row['Topic 2']}\")\n",
        "        print(f\"  {embedder_names[0]}: {row[f'{embedder_names[0]} Similarity']:.3f}\")\n",
        "        print(f\"  {embedder_names[1]}: {row[f'{embedder_names[1]} Similarity']:.3f}\")\n",
        "        print(f\"  Difference: {row['Difference']:+.3f}\\n\")\n",
        "    \n",
        "    return diff_df\n",
        "\n",
        "differences_df = do_find_similarity_differences(similarity_matrices)\n"
      ]
    },
    {
      "cell_type": "markdown",
      "metadata": {
        "vscode": {
          "languageId": "raw"
        }
      },
      "source": [
        "## 🗺️ Visualize Topic Clusters in 2D Space\n",
        "\n",
        "Let's use t-SNE to reduce our high-dimensional embeddings to 2D and see how topics cluster:\n"
      ]
    },
    {
      "cell_type": "code",
      "execution_count": 11,
      "metadata": {},
      "outputs": [
        {
          "name": "stdout",
          "output_type": "stream",
          "text": [
            "🔄 Creating 2D visualization for OpenAI...\n"
          ]
        },
        {
          "name": "stderr",
          "output_type": "stream",
          "text": [
            "huggingface/tokenizers: The current process just got forked, after parallelism has already been used. Disabling parallelism to avoid deadlocks...\n",
            "To disable this warning, you can either:\n",
            "\t- Avoid using `tokenizers` before the fork if possible\n",
            "\t- Explicitly set the environment variable TOKENIZERS_PARALLELISM=(true | false)\n"
          ]
        },
        {
          "name": "stdout",
          "output_type": "stream",
          "text": [
            "🔄 Creating 2D visualization for HuggingFace...\n"
          ]
        },
        {
          "data": {
            "application/vnd.plotly.v1+json": {
              "config": {
                "plotlyServerURL": "https://plot.ly"
              },
              "data": [
                {
                  "hovertemplate": "<b>%{text}</b><br>Domain: Technology<extra></extra>",
                  "marker": {
                    "color": "rgb(228,26,28)",
                    "line": {
                      "color": "white",
                      "width": 2
                    },
                    "size": 12
                  },
                  "mode": "markers+text",
                  "name": "Technology",
                  "showlegend": true,
                  "text": [
                    "Artificial Intelligence",
                    "Machine Learning",
                    "Deep Learning",
                    "Data Science",
                    "Programming",
                    "Software Engineering"
                  ],
                  "textfont": {
                    "size": 10
                  },
                  "textposition": "top center",
                  "type": "scatter",
                  "x": {
                    "bdata": "KdJ6Qcvee0B7jfK/ToEIQQQEnMHIAUvB",
                    "dtype": "f4"
                  },
                  "xaxis": "x",
                  "y": {
                    "bdata": "I0YwQWq1KMBBUUpBa+DRQXSpgUGlOZU9",
                    "dtype": "f4"
                  },
                  "yaxis": "y"
                },
                {
                  "hovertemplate": "<b>%{text}</b><br>Domain: Science<extra></extra>",
                  "marker": {
                    "color": "rgb(55,126,184)",
                    "line": {
                      "color": "white",
                      "width": 2
                    },
                    "size": 12
                  },
                  "mode": "markers+text",
                  "name": "Science",
                  "showlegend": true,
                  "text": [
                    "Physics",
                    "Chemistry",
                    "Biology",
                    "Mathematics"
                  ],
                  "textfont": {
                    "size": 10
                  },
                  "textposition": "top center",
                  "type": "scatter",
                  "x": {
                    "bdata": "35AewnVC0cEuPPTBS4ktQQ==",
                    "dtype": "f4"
                  },
                  "xaxis": "x",
                  "y": {
                    "bdata": "0g6bQTf5C0LbxWJA19WdwQ==",
                    "dtype": "f4"
                  },
                  "yaxis": "y"
                },
                {
                  "hovertemplate": "<b>%{text}</b><br>Domain: Arts & Culture<extra></extra>",
                  "marker": {
                    "color": "rgb(77,175,74)",
                    "line": {
                      "color": "white",
                      "width": 2
                    },
                    "size": 12
                  },
                  "mode": "markers+text",
                  "name": "Arts & Culture",
                  "showlegend": true,
                  "text": [
                    "Painting",
                    "Music",
                    "Literature",
                    "Theater"
                  ],
                  "textfont": {
                    "size": 10
                  },
                  "textposition": "top center",
                  "type": "scatter",
                  "x": {
                    "bdata": "OALtQYDwdz+7jb3Bo1MRQg==",
                    "dtype": "f4"
                  },
                  "xaxis": "x",
                  "y": {
                    "bdata": "+O+pwTwkC8LMUVfBCmeGQA==",
                    "dtype": "f4"
                  },
                  "yaxis": "y"
                },
                {
                  "hovertemplate": "<b>%{text}</b><br>Domain: Sports<extra></extra>",
                  "marker": {
                    "color": "rgb(152,78,163)",
                    "line": {
                      "color": "white",
                      "width": 2
                    },
                    "size": 12
                  },
                  "mode": "markers+text",
                  "name": "Sports",
                  "showlegend": true,
                  "text": [
                    "Football",
                    "Basketball",
                    "Tennis",
                    "Swimming"
                  ],
                  "textfont": {
                    "size": 10
                  },
                  "textposition": "top center",
                  "type": "scatter",
                  "x": {
                    "bdata": "nHPPwJy1iMCgRArBYgWiwQ==",
                    "dtype": "f4"
                  },
                  "xaxis": "x",
                  "y": {
                    "bdata": "wOWDwZ5DNkLnheRB3j76wQ==",
                    "dtype": "f4"
                  },
                  "yaxis": "y"
                },
                {
                  "hovertemplate": "<b>%{text}</b><br>Domain: Food<extra></extra>",
                  "marker": {
                    "color": "rgb(255,127,0)",
                    "line": {
                      "color": "white",
                      "width": 2
                    },
                    "size": 12
                  },
                  "mode": "markers+text",
                  "name": "Food",
                  "showlegend": true,
                  "text": [
                    "Italian Cuisine",
                    "Japanese Cuisine",
                    "Baking",
                    "Vegetarian Cooking"
                  ],
                  "textfont": {
                    "size": 10
                  },
                  "textposition": "top center",
                  "type": "scatter",
                  "x": {
                    "bdata": "9nONQRpF60FD06ZB2+kowg==",
                    "dtype": "f4"
                  },
                  "xaxis": "x",
                  "y": {
                    "bdata": "qPQkQsPwu0GAs5rAuMoswQ==",
                    "dtype": "f4"
                  },
                  "yaxis": "y"
                },
                {
                  "hovertemplate": "<b>%{text}</b><br>Domain: Technology<extra></extra>",
                  "marker": {
                    "color": "rgb(228,26,28)",
                    "line": {
                      "color": "white",
                      "width": 2
                    },
                    "size": 12
                  },
                  "mode": "markers+text",
                  "name": "Technology_2",
                  "showlegend": false,
                  "text": [
                    "Artificial Intelligence",
                    "Machine Learning",
                    "Deep Learning",
                    "Data Science",
                    "Programming",
                    "Software Engineering"
                  ],
                  "textfont": {
                    "size": 10
                  },
                  "textposition": "top center",
                  "type": "scatter",
                  "x": {
                    "bdata": "by+ewmZmBsMlcevBgnAUQmHsjkKc8zLC",
                    "dtype": "f4"
                  },
                  "xaxis": "x2",
                  "y": {
                    "bdata": "E5jWQBgd+0Er6gLDBT0dQt0GSMBQngzC",
                    "dtype": "f4"
                  },
                  "yaxis": "y2"
                },
                {
                  "hovertemplate": "<b>%{text}</b><br>Domain: Science<extra></extra>",
                  "marker": {
                    "color": "rgb(55,126,184)",
                    "line": {
                      "color": "white",
                      "width": 2
                    },
                    "size": 12
                  },
                  "mode": "markers+text",
                  "name": "Science_2",
                  "showlegend": false,
                  "text": [
                    "Physics",
                    "Chemistry",
                    "Biology",
                    "Mathematics"
                  ],
                  "textfont": {
                    "size": 10
                  },
                  "textposition": "top center",
                  "type": "scatter",
                  "x": {
                    "bdata": "17kwQvDPw8D6C6bBekZOQQ==",
                    "dtype": "f4"
                  },
                  "xaxis": "x2",
                  "y": {
                    "bdata": "5jHywlPilMKddrNBow2JwQ==",
                    "dtype": "f4"
                  },
                  "yaxis": "y2"
                },
                {
                  "hovertemplate": "<b>%{text}</b><br>Domain: Arts & Culture<extra></extra>",
                  "marker": {
                    "color": "rgb(77,175,74)",
                    "line": {
                      "color": "white",
                      "width": 2
                    },
                    "size": 12
                  },
                  "mode": "markers+text",
                  "name": "Arts & Culture_2",
                  "showlegend": false,
                  "text": [
                    "Painting",
                    "Music",
                    "Literature",
                    "Theater"
                  ],
                  "textfont": {
                    "size": 10
                  },
                  "textposition": "top center",
                  "type": "scatter",
                  "x": {
                    "bdata": "NG+Pv7qD2ELZodrCNWhMQg==",
                    "dtype": "f4"
                  },
                  "xaxis": "x2",
                  "y": {
                    "bdata": "4nKfQhS3TUIUv79C5Ehnwg==",
                    "dtype": "f4"
                  },
                  "yaxis": "y2"
                },
                {
                  "hovertemplate": "<b>%{text}</b><br>Domain: Sports<extra></extra>",
                  "marker": {
                    "color": "rgb(152,78,163)",
                    "line": {
                      "color": "white",
                      "width": 2
                    },
                    "size": 12
                  },
                  "mode": "markers+text",
                  "name": "Sports_2",
                  "showlegend": false,
                  "text": [
                    "Football",
                    "Basketball",
                    "Tennis",
                    "Swimming"
                  ],
                  "textfont": {
                    "size": 10
                  },
                  "textposition": "top center",
                  "type": "scatter",
                  "x": {
                    "bdata": "KycEQ2W2qUFc2fbCxLfXQg==",
                    "dtype": "f4"
                  },
                  "xaxis": "x2",
                  "y": {
                    "bdata": "bBk3wd4PDEOEUh7CdNaZwg==",
                    "dtype": "f4"
                  },
                  "yaxis": "y2"
                },
                {
                  "hovertemplate": "<b>%{text}</b><br>Domain: Food<extra></extra>",
                  "marker": {
                    "color": "rgb(255,127,0)",
                    "line": {
                      "color": "white",
                      "width": 2
                    },
                    "size": 12
                  },
                  "mode": "markers+text",
                  "name": "Food_2",
                  "showlegend": false,
                  "text": [
                    "Italian Cuisine",
                    "Japanese Cuisine",
                    "Baking",
                    "Vegetarian Cooking"
                  ],
                  "textfont": {
                    "size": 10
                  },
                  "textposition": "top center",
                  "type": "scatter",
                  "x": {
                    "bdata": "pTFtwu+Zn8IWnTnCVR6GQg==",
                    "dtype": "f4"
                  },
                  "xaxis": "x2",
                  "y": {
                    "bdata": "1Ah4QsvPrcK20f1C9Lu/Qg==",
                    "dtype": "f4"
                  },
                  "yaxis": "y2"
                }
              ],
              "layout": {
                "annotations": [
                  {
                    "font": {
                      "size": 16
                    },
                    "showarrow": false,
                    "text": "OpenAI Embedder",
                    "x": 0.225,
                    "xanchor": "center",
                    "xref": "paper",
                    "y": 1,
                    "yanchor": "bottom",
                    "yref": "paper"
                  },
                  {
                    "font": {
                      "size": 16
                    },
                    "showarrow": false,
                    "text": "HuggingFace Embedder",
                    "x": 0.775,
                    "xanchor": "center",
                    "xref": "paper",
                    "y": 1,
                    "yanchor": "bottom",
                    "yref": "paper"
                  }
                ],
                "height": 600,
                "legend": {
                  "x": 1.01,
                  "xanchor": "left",
                  "y": 0.99,
                  "yanchor": "top"
                },
                "showlegend": true,
                "template": {
                  "data": {
                    "bar": [
                      {
                        "error_x": {
                          "color": "#2a3f5f"
                        },
                        "error_y": {
                          "color": "#2a3f5f"
                        },
                        "marker": {
                          "line": {
                            "color": "#E5ECF6",
                            "width": 0.5
                          },
                          "pattern": {
                            "fillmode": "overlay",
                            "size": 10,
                            "solidity": 0.2
                          }
                        },
                        "type": "bar"
                      }
                    ],
                    "barpolar": [
                      {
                        "marker": {
                          "line": {
                            "color": "#E5ECF6",
                            "width": 0.5
                          },
                          "pattern": {
                            "fillmode": "overlay",
                            "size": 10,
                            "solidity": 0.2
                          }
                        },
                        "type": "barpolar"
                      }
                    ],
                    "carpet": [
                      {
                        "aaxis": {
                          "endlinecolor": "#2a3f5f",
                          "gridcolor": "white",
                          "linecolor": "white",
                          "minorgridcolor": "white",
                          "startlinecolor": "#2a3f5f"
                        },
                        "baxis": {
                          "endlinecolor": "#2a3f5f",
                          "gridcolor": "white",
                          "linecolor": "white",
                          "minorgridcolor": "white",
                          "startlinecolor": "#2a3f5f"
                        },
                        "type": "carpet"
                      }
                    ],
                    "choropleth": [
                      {
                        "colorbar": {
                          "outlinewidth": 0,
                          "ticks": ""
                        },
                        "type": "choropleth"
                      }
                    ],
                    "contour": [
                      {
                        "colorbar": {
                          "outlinewidth": 0,
                          "ticks": ""
                        },
                        "colorscale": [
                          [
                            0,
                            "#0d0887"
                          ],
                          [
                            0.1111111111111111,
                            "#46039f"
                          ],
                          [
                            0.2222222222222222,
                            "#7201a8"
                          ],
                          [
                            0.3333333333333333,
                            "#9c179e"
                          ],
                          [
                            0.4444444444444444,
                            "#bd3786"
                          ],
                          [
                            0.5555555555555556,
                            "#d8576b"
                          ],
                          [
                            0.6666666666666666,
                            "#ed7953"
                          ],
                          [
                            0.7777777777777778,
                            "#fb9f3a"
                          ],
                          [
                            0.8888888888888888,
                            "#fdca26"
                          ],
                          [
                            1,
                            "#f0f921"
                          ]
                        ],
                        "type": "contour"
                      }
                    ],
                    "contourcarpet": [
                      {
                        "colorbar": {
                          "outlinewidth": 0,
                          "ticks": ""
                        },
                        "type": "contourcarpet"
                      }
                    ],
                    "heatmap": [
                      {
                        "colorbar": {
                          "outlinewidth": 0,
                          "ticks": ""
                        },
                        "colorscale": [
                          [
                            0,
                            "#0d0887"
                          ],
                          [
                            0.1111111111111111,
                            "#46039f"
                          ],
                          [
                            0.2222222222222222,
                            "#7201a8"
                          ],
                          [
                            0.3333333333333333,
                            "#9c179e"
                          ],
                          [
                            0.4444444444444444,
                            "#bd3786"
                          ],
                          [
                            0.5555555555555556,
                            "#d8576b"
                          ],
                          [
                            0.6666666666666666,
                            "#ed7953"
                          ],
                          [
                            0.7777777777777778,
                            "#fb9f3a"
                          ],
                          [
                            0.8888888888888888,
                            "#fdca26"
                          ],
                          [
                            1,
                            "#f0f921"
                          ]
                        ],
                        "type": "heatmap"
                      }
                    ],
                    "histogram": [
                      {
                        "marker": {
                          "pattern": {
                            "fillmode": "overlay",
                            "size": 10,
                            "solidity": 0.2
                          }
                        },
                        "type": "histogram"
                      }
                    ],
                    "histogram2d": [
                      {
                        "colorbar": {
                          "outlinewidth": 0,
                          "ticks": ""
                        },
                        "colorscale": [
                          [
                            0,
                            "#0d0887"
                          ],
                          [
                            0.1111111111111111,
                            "#46039f"
                          ],
                          [
                            0.2222222222222222,
                            "#7201a8"
                          ],
                          [
                            0.3333333333333333,
                            "#9c179e"
                          ],
                          [
                            0.4444444444444444,
                            "#bd3786"
                          ],
                          [
                            0.5555555555555556,
                            "#d8576b"
                          ],
                          [
                            0.6666666666666666,
                            "#ed7953"
                          ],
                          [
                            0.7777777777777778,
                            "#fb9f3a"
                          ],
                          [
                            0.8888888888888888,
                            "#fdca26"
                          ],
                          [
                            1,
                            "#f0f921"
                          ]
                        ],
                        "type": "histogram2d"
                      }
                    ],
                    "histogram2dcontour": [
                      {
                        "colorbar": {
                          "outlinewidth": 0,
                          "ticks": ""
                        },
                        "colorscale": [
                          [
                            0,
                            "#0d0887"
                          ],
                          [
                            0.1111111111111111,
                            "#46039f"
                          ],
                          [
                            0.2222222222222222,
                            "#7201a8"
                          ],
                          [
                            0.3333333333333333,
                            "#9c179e"
                          ],
                          [
                            0.4444444444444444,
                            "#bd3786"
                          ],
                          [
                            0.5555555555555556,
                            "#d8576b"
                          ],
                          [
                            0.6666666666666666,
                            "#ed7953"
                          ],
                          [
                            0.7777777777777778,
                            "#fb9f3a"
                          ],
                          [
                            0.8888888888888888,
                            "#fdca26"
                          ],
                          [
                            1,
                            "#f0f921"
                          ]
                        ],
                        "type": "histogram2dcontour"
                      }
                    ],
                    "mesh3d": [
                      {
                        "colorbar": {
                          "outlinewidth": 0,
                          "ticks": ""
                        },
                        "type": "mesh3d"
                      }
                    ],
                    "parcoords": [
                      {
                        "line": {
                          "colorbar": {
                            "outlinewidth": 0,
                            "ticks": ""
                          }
                        },
                        "type": "parcoords"
                      }
                    ],
                    "pie": [
                      {
                        "automargin": true,
                        "type": "pie"
                      }
                    ],
                    "scatter": [
                      {
                        "fillpattern": {
                          "fillmode": "overlay",
                          "size": 10,
                          "solidity": 0.2
                        },
                        "type": "scatter"
                      }
                    ],
                    "scatter3d": [
                      {
                        "line": {
                          "colorbar": {
                            "outlinewidth": 0,
                            "ticks": ""
                          }
                        },
                        "marker": {
                          "colorbar": {
                            "outlinewidth": 0,
                            "ticks": ""
                          }
                        },
                        "type": "scatter3d"
                      }
                    ],
                    "scattercarpet": [
                      {
                        "marker": {
                          "colorbar": {
                            "outlinewidth": 0,
                            "ticks": ""
                          }
                        },
                        "type": "scattercarpet"
                      }
                    ],
                    "scattergeo": [
                      {
                        "marker": {
                          "colorbar": {
                            "outlinewidth": 0,
                            "ticks": ""
                          }
                        },
                        "type": "scattergeo"
                      }
                    ],
                    "scattergl": [
                      {
                        "marker": {
                          "colorbar": {
                            "outlinewidth": 0,
                            "ticks": ""
                          }
                        },
                        "type": "scattergl"
                      }
                    ],
                    "scattermap": [
                      {
                        "marker": {
                          "colorbar": {
                            "outlinewidth": 0,
                            "ticks": ""
                          }
                        },
                        "type": "scattermap"
                      }
                    ],
                    "scattermapbox": [
                      {
                        "marker": {
                          "colorbar": {
                            "outlinewidth": 0,
                            "ticks": ""
                          }
                        },
                        "type": "scattermapbox"
                      }
                    ],
                    "scatterpolar": [
                      {
                        "marker": {
                          "colorbar": {
                            "outlinewidth": 0,
                            "ticks": ""
                          }
                        },
                        "type": "scatterpolar"
                      }
                    ],
                    "scatterpolargl": [
                      {
                        "marker": {
                          "colorbar": {
                            "outlinewidth": 0,
                            "ticks": ""
                          }
                        },
                        "type": "scatterpolargl"
                      }
                    ],
                    "scatterternary": [
                      {
                        "marker": {
                          "colorbar": {
                            "outlinewidth": 0,
                            "ticks": ""
                          }
                        },
                        "type": "scatterternary"
                      }
                    ],
                    "surface": [
                      {
                        "colorbar": {
                          "outlinewidth": 0,
                          "ticks": ""
                        },
                        "colorscale": [
                          [
                            0,
                            "#0d0887"
                          ],
                          [
                            0.1111111111111111,
                            "#46039f"
                          ],
                          [
                            0.2222222222222222,
                            "#7201a8"
                          ],
                          [
                            0.3333333333333333,
                            "#9c179e"
                          ],
                          [
                            0.4444444444444444,
                            "#bd3786"
                          ],
                          [
                            0.5555555555555556,
                            "#d8576b"
                          ],
                          [
                            0.6666666666666666,
                            "#ed7953"
                          ],
                          [
                            0.7777777777777778,
                            "#fb9f3a"
                          ],
                          [
                            0.8888888888888888,
                            "#fdca26"
                          ],
                          [
                            1,
                            "#f0f921"
                          ]
                        ],
                        "type": "surface"
                      }
                    ],
                    "table": [
                      {
                        "cells": {
                          "fill": {
                            "color": "#EBF0F8"
                          },
                          "line": {
                            "color": "white"
                          }
                        },
                        "header": {
                          "fill": {
                            "color": "#C8D4E3"
                          },
                          "line": {
                            "color": "white"
                          }
                        },
                        "type": "table"
                      }
                    ]
                  },
                  "layout": {
                    "annotationdefaults": {
                      "arrowcolor": "#2a3f5f",
                      "arrowhead": 0,
                      "arrowwidth": 1
                    },
                    "autotypenumbers": "strict",
                    "coloraxis": {
                      "colorbar": {
                        "outlinewidth": 0,
                        "ticks": ""
                      }
                    },
                    "colorscale": {
                      "diverging": [
                        [
                          0,
                          "#8e0152"
                        ],
                        [
                          0.1,
                          "#c51b7d"
                        ],
                        [
                          0.2,
                          "#de77ae"
                        ],
                        [
                          0.3,
                          "#f1b6da"
                        ],
                        [
                          0.4,
                          "#fde0ef"
                        ],
                        [
                          0.5,
                          "#f7f7f7"
                        ],
                        [
                          0.6,
                          "#e6f5d0"
                        ],
                        [
                          0.7,
                          "#b8e186"
                        ],
                        [
                          0.8,
                          "#7fbc41"
                        ],
                        [
                          0.9,
                          "#4d9221"
                        ],
                        [
                          1,
                          "#276419"
                        ]
                      ],
                      "sequential": [
                        [
                          0,
                          "#0d0887"
                        ],
                        [
                          0.1111111111111111,
                          "#46039f"
                        ],
                        [
                          0.2222222222222222,
                          "#7201a8"
                        ],
                        [
                          0.3333333333333333,
                          "#9c179e"
                        ],
                        [
                          0.4444444444444444,
                          "#bd3786"
                        ],
                        [
                          0.5555555555555556,
                          "#d8576b"
                        ],
                        [
                          0.6666666666666666,
                          "#ed7953"
                        ],
                        [
                          0.7777777777777778,
                          "#fb9f3a"
                        ],
                        [
                          0.8888888888888888,
                          "#fdca26"
                        ],
                        [
                          1,
                          "#f0f921"
                        ]
                      ],
                      "sequentialminus": [
                        [
                          0,
                          "#0d0887"
                        ],
                        [
                          0.1111111111111111,
                          "#46039f"
                        ],
                        [
                          0.2222222222222222,
                          "#7201a8"
                        ],
                        [
                          0.3333333333333333,
                          "#9c179e"
                        ],
                        [
                          0.4444444444444444,
                          "#bd3786"
                        ],
                        [
                          0.5555555555555556,
                          "#d8576b"
                        ],
                        [
                          0.6666666666666666,
                          "#ed7953"
                        ],
                        [
                          0.7777777777777778,
                          "#fb9f3a"
                        ],
                        [
                          0.8888888888888888,
                          "#fdca26"
                        ],
                        [
                          1,
                          "#f0f921"
                        ]
                      ]
                    },
                    "colorway": [
                      "#636efa",
                      "#EF553B",
                      "#00cc96",
                      "#ab63fa",
                      "#FFA15A",
                      "#19d3f3",
                      "#FF6692",
                      "#B6E880",
                      "#FF97FF",
                      "#FECB52"
                    ],
                    "font": {
                      "color": "#2a3f5f"
                    },
                    "geo": {
                      "bgcolor": "white",
                      "lakecolor": "white",
                      "landcolor": "#E5ECF6",
                      "showlakes": true,
                      "showland": true,
                      "subunitcolor": "white"
                    },
                    "hoverlabel": {
                      "align": "left"
                    },
                    "hovermode": "closest",
                    "mapbox": {
                      "style": "light"
                    },
                    "paper_bgcolor": "white",
                    "plot_bgcolor": "#E5ECF6",
                    "polar": {
                      "angularaxis": {
                        "gridcolor": "white",
                        "linecolor": "white",
                        "ticks": ""
                      },
                      "bgcolor": "#E5ECF6",
                      "radialaxis": {
                        "gridcolor": "white",
                        "linecolor": "white",
                        "ticks": ""
                      }
                    },
                    "scene": {
                      "xaxis": {
                        "backgroundcolor": "#E5ECF6",
                        "gridcolor": "white",
                        "gridwidth": 2,
                        "linecolor": "white",
                        "showbackground": true,
                        "ticks": "",
                        "zerolinecolor": "white"
                      },
                      "yaxis": {
                        "backgroundcolor": "#E5ECF6",
                        "gridcolor": "white",
                        "gridwidth": 2,
                        "linecolor": "white",
                        "showbackground": true,
                        "ticks": "",
                        "zerolinecolor": "white"
                      },
                      "zaxis": {
                        "backgroundcolor": "#E5ECF6",
                        "gridcolor": "white",
                        "gridwidth": 2,
                        "linecolor": "white",
                        "showbackground": true,
                        "ticks": "",
                        "zerolinecolor": "white"
                      }
                    },
                    "shapedefaults": {
                      "line": {
                        "color": "#2a3f5f"
                      }
                    },
                    "ternary": {
                      "aaxis": {
                        "gridcolor": "white",
                        "linecolor": "white",
                        "ticks": ""
                      },
                      "baxis": {
                        "gridcolor": "white",
                        "linecolor": "white",
                        "ticks": ""
                      },
                      "bgcolor": "#E5ECF6",
                      "caxis": {
                        "gridcolor": "white",
                        "linecolor": "white",
                        "ticks": ""
                      }
                    },
                    "title": {
                      "x": 0.05
                    },
                    "xaxis": {
                      "automargin": true,
                      "gridcolor": "white",
                      "linecolor": "white",
                      "ticks": "",
                      "title": {
                        "standoff": 15
                      },
                      "zerolinecolor": "white",
                      "zerolinewidth": 2
                    },
                    "yaxis": {
                      "automargin": true,
                      "gridcolor": "white",
                      "linecolor": "white",
                      "ticks": "",
                      "title": {
                        "standoff": 15
                      },
                      "zerolinecolor": "white",
                      "zerolinewidth": 2
                    }
                  }
                },
                "title": {
                  "text": "Topic Clustering Comparison: How Different Embedders Group Similar Concepts",
                  "x": 0.5
                },
                "xaxis": {
                  "anchor": "y",
                  "domain": [
                    0,
                    0.45
                  ],
                  "title": {
                    "text": "t-SNE Dimension 1"
                  }
                },
                "xaxis2": {
                  "anchor": "y2",
                  "domain": [
                    0.55,
                    1
                  ],
                  "title": {
                    "text": "t-SNE Dimension 1"
                  }
                },
                "yaxis": {
                  "anchor": "x",
                  "domain": [
                    0,
                    1
                  ],
                  "title": {
                    "text": "t-SNE Dimension 2"
                  }
                },
                "yaxis2": {
                  "anchor": "x2",
                  "domain": [
                    0,
                    1
                  ],
                  "title": {
                    "text": "t-SNE Dimension 2"
                  }
                }
              }
            }
          },
          "metadata": {},
          "output_type": "display_data"
        },
        {
          "name": "stdout",
          "output_type": "stream",
          "text": [
            "\n",
            "✅ 2D visualization complete!\n",
            "💡 Notice how different embedders cluster the same topics differently!\n"
          ]
        }
      ],
      "source": [
        "def do_create_2d_visualization(embeddings_data, topic_names):\n",
        "    \"\"\"Create 2D visualizations using t-SNE for each embedder.\"\"\"\n",
        "    # Create color mapping for different domains\n",
        "    domain_colors = {\n",
        "        'Technology': ['Artificial Intelligence', 'Machine Learning', 'Deep Learning', 'Data Science', 'Programming', 'Software Engineering'],\n",
        "        'Science': ['Physics', 'Chemistry', 'Biology', 'Mathematics'],\n",
        "        'Arts & Culture': ['Painting', 'Music', 'Literature', 'Theater'],\n",
        "        'Sports': ['Football', 'Basketball', 'Tennis', 'Swimming'],\n",
        "        'Food': ['Italian Cuisine', 'Japanese Cuisine', 'Baking', 'Vegetarian Cooking']\n",
        "    }\n",
        "    \n",
        "    # Create domain labels for each topic\n",
        "    topic_domains = {}\n",
        "    for domain, topics in domain_colors.items():\n",
        "        for topic in topics:\n",
        "            topic_domains[topic] = domain\n",
        "    \n",
        "    domain_labels = [topic_domains[topic] for topic in topic_names]\n",
        "    \n",
        "    fig = make_subplots(\n",
        "        rows=1, cols=len(embeddings_data),\n",
        "        subplot_titles=[f\"{name} Embedder\" for name in embeddings_data.keys()],\n",
        "        specs=[[{'type': 'scatter'}] * len(embeddings_data)]\n",
        "    )\n",
        "    \n",
        "    colors = px.colors.qualitative.Set1\n",
        "    \n",
        "    for col, (embedder_name, embeddings) in enumerate(embeddings_data.items(), 1):\n",
        "        print(f\"🔄 Creating 2D visualization for {embedder_name}...\")\n",
        "        \n",
        "        # Apply t-SNE\n",
        "        tsne = TSNE(n_components=2, random_state=42, perplexity=min(30, len(embeddings)-1))\n",
        "        embeddings_2d = tsne.fit_transform(embeddings)\n",
        "        \n",
        "        # Plot points for each domain\n",
        "        for i, domain in enumerate(domain_colors.keys()):\n",
        "            domain_indices = [j for j, label in enumerate(domain_labels) if label == domain]\n",
        "            \n",
        "            if domain_indices:  # Only plot if domain has topics\n",
        "                x_coords = embeddings_2d[domain_indices, 0]\n",
        "                y_coords = embeddings_2d[domain_indices, 1]\n",
        "                topic_subset = [topic_names[j] for j in domain_indices]\n",
        "                \n",
        "                fig.add_trace(\n",
        "                    go.Scatter(\n",
        "                        x=x_coords,\n",
        "                        y=y_coords,\n",
        "                        mode='markers+text',\n",
        "                        marker=dict(\n",
        "                            size=12,\n",
        "                            color=colors[i % len(colors)],\n",
        "                            line=dict(width=2, color='white')\n",
        "                        ),\n",
        "                        text=topic_subset,\n",
        "                        textposition='top center',\n",
        "                        textfont=dict(size=10),\n",
        "                        name=domain if col == 1 else f\"{domain}_{col}\",  # Only show legend for first subplot\n",
        "                        showlegend=(col == 1),\n",
        "                        hovertemplate='<b>%{text}</b><br>Domain: ' + domain + '<extra></extra>'\n",
        "                    ),\n",
        "                    row=1, col=col\n",
        "                )\n",
        "    \n",
        "    fig.update_layout(\n",
        "        title_text=\"Topic Clustering Comparison: How Different Embedders Group Similar Concepts\",\n",
        "        title_x=0.5,\n",
        "        height=600,\n",
        "        showlegend=True,\n",
        "        legend=dict(yanchor=\"top\", y=0.99, xanchor=\"left\", x=1.01)\n",
        "    )\n",
        "    \n",
        "    # Update axes\n",
        "    for col in range(1, len(embeddings_data) + 1):\n",
        "        fig.update_xaxes(title_text=\"t-SNE Dimension 1\", row=1, col=col)\n",
        "        fig.update_yaxes(title_text=\"t-SNE Dimension 2\", row=1, col=col)\n",
        "    \n",
        "    fig.show()\n",
        "    \n",
        "    print(\"\\n✅ 2D visualization complete!\")\n",
        "    print(\"💡 Notice how different embedders cluster the same topics differently!\")\n",
        "\n",
        "do_create_2d_visualization(embeddings_data, topic_names)\n"
      ]
    },
    {
      "cell_type": "markdown",
      "metadata": {
        "vscode": {
          "languageId": "raw"
        }
      },
      "source": [
        "## 📊 Compare Clustering Quality\n",
        "\n",
        "Let's quantify how well each embedder groups similar topics together:\n"
      ]
    },
    {
      "cell_type": "code",
      "execution_count": 12,
      "metadata": {},
      "outputs": [
        {
          "name": "stdout",
          "output_type": "stream",
          "text": [
            "\n",
            "🔍 Analyzing OpenAI clustering quality:\n",
            "  Technology: 0.806 avg similarity\n",
            "  Science: 0.830 avg similarity\n",
            "  Arts & Culture: 0.815 avg similarity\n",
            "  Sports: 0.863 avg similarity\n",
            "  Food: 0.831 avg similarity\n",
            "  📊 Overall clustering quality: 0.829\n",
            "\n",
            "🔍 Analyzing HuggingFace clustering quality:\n",
            "  Technology: 0.243 avg similarity\n",
            "  Science: 0.367 avg similarity\n",
            "  Arts & Culture: 0.354 avg similarity\n",
            "  Sports: 0.437 avg similarity\n",
            "  Food: 0.370 avg similarity\n",
            "  📊 Overall clustering quality: 0.354\n"
          ]
        }
      ],
      "source": [
        "def do_analyze_clustering_quality(similarity_matrices, topic_names):\n",
        "    \"\"\"Analyze how well each embedder clusters topics by domain.\"\"\"\n",
        "    # Define expected clusters (domains)\n",
        "    expected_clusters = {\n",
        "        'Technology': ['Artificial Intelligence', 'Machine Learning', 'Deep Learning', 'Data Science', 'Programming', 'Software Engineering'],\n",
        "        'Science': ['Physics', 'Chemistry', 'Biology', 'Mathematics'],\n",
        "        'Arts & Culture': ['Painting', 'Music', 'Literature', 'Theater'],\n",
        "        'Sports': ['Football', 'Basketball', 'Tennis', 'Swimming'],\n",
        "        'Food': ['Italian Cuisine', 'Japanese Cuisine', 'Baking', 'Vegetarian Cooking']\n",
        "    }\n",
        "    \n",
        "    results = {}\n",
        "    \n",
        "    for embedder_name, similarity_df in similarity_matrices.items():\n",
        "        cluster_scores = []\n",
        "        \n",
        "        print(f\"\\n🔍 Analyzing {embedder_name} clustering quality:\")\n",
        "        \n",
        "        for cluster_name, cluster_topics in expected_clusters.items():\n",
        "            # Get similarity scores within this cluster\n",
        "            cluster_topics_present = [t for t in cluster_topics if t in similarity_df.index]\n",
        "            \n",
        "            if len(cluster_topics_present) > 1:\n",
        "                # Calculate average similarity within cluster\n",
        "                within_cluster_sims = []\n",
        "                for i, topic1 in enumerate(cluster_topics_present):\n",
        "                    for topic2 in cluster_topics_present[i+1:]:\n",
        "                        sim = similarity_df.loc[topic1, topic2]\n",
        "                        within_cluster_sims.append(sim)\n",
        "                \n",
        "                avg_within_cluster = np.mean(within_cluster_sims)\n",
        "                cluster_scores.append(avg_within_cluster)\n",
        "                \n",
        "                print(f\"  {cluster_name}: {avg_within_cluster:.3f} avg similarity\")\n",
        "        \n",
        "        overall_score = np.mean(cluster_scores)\n",
        "        results[embedder_name] = {\n",
        "            'overall_clustering_score': overall_score,\n",
        "            'cluster_scores': dict(zip(expected_clusters.keys(), cluster_scores))\n",
        "        }\n",
        "        \n",
        "        print(f\"  📊 Overall clustering quality: {overall_score:.3f}\")\n",
        "    \n",
        "    return results\n",
        "\n",
        "clustering_analysis = do_analyze_clustering_quality(similarity_matrices, topic_names)\n"
      ]
    },
    {
      "cell_type": "markdown",
      "metadata": {
        "vscode": {
          "languageId": "raw"
        }
      },
      "source": [
        "## 🎯 Key Insights and Takeaways\n",
        "\n",
        "Let's summarize what we've learned about how different embedders understand topics:\n"
      ]
    },
    {
      "cell_type": "code",
      "execution_count": 13,
      "metadata": {},
      "outputs": [
        {
          "name": "stdout",
          "output_type": "stream",
          "text": [
            "🎯 KEY INSIGHTS FROM EMBEDDING COMPARISON\n",
            "\n",
            "==================================================\n",
            "\n",
            "1️⃣ CLUSTERING QUALITY COMPARISON:\n",
            "   OpenAI: 0.829 average within-cluster similarity\n",
            "   HuggingFace: 0.354 average within-cluster similarity\n",
            "\n",
            "2️⃣ BIGGEST DISAGREEMENTS:\n",
            "   Most disagreed pair: Mathematics ↔ Theater\n",
            "   OpenAI: 0.750\n",
            "   HuggingFace: -0.090\n",
            "   Difference: +0.840\n",
            "\n",
            "3️⃣ WHAT THIS MEANS:\n",
            "   🧠 Different embedders have different 'opinions' about semantic similarity\n",
            "   🎯 Choice of embedder can significantly impact your RAG system's retrieval\n",
            "   ⚖️  Consider testing multiple embedders for your specific use case\n",
            "   📊 Visualizations help understand embedder behavior before deployment\n",
            "\n",
            "4️⃣ PRACTICAL RECOMMENDATIONS:\n",
            "   🏆 OpenAI showed better domain clustering in this example\n",
            "   🔬 Always test embedders on YOUR specific domain and use case\n",
            "   🎨 Use dimensionality reduction (t-SNE/PCA) to visualize embeddings\n",
            "   📈 Consider hybrid approaches or ensemble methods\n",
            "\n",
            "==================================================\n",
            "🎉 Embedding comparison complete!\n"
          ]
        }
      ],
      "source": [
        "def do_summarize_insights(similarity_matrices, clustering_analysis, differences_df):\n",
        "    \"\"\"Provide key insights from the embedding comparison.\"\"\"\n",
        "    print(\"🎯 KEY INSIGHTS FROM EMBEDDING COMPARISON\\n\")\n",
        "    print(\"=\" * 50)\n",
        "    \n",
        "    if len(similarity_matrices) >= 2:\n",
        "        embedder_names = list(similarity_matrices.keys())\n",
        "        \n",
        "        print(f\"\\n1️⃣ CLUSTERING QUALITY COMPARISON:\")\n",
        "        for embedder_name, analysis in clustering_analysis.items():\n",
        "            score = analysis['overall_clustering_score']\n",
        "            print(f\"   {embedder_name}: {score:.3f} average within-cluster similarity\")\n",
        "        \n",
        "        print(f\"\\n2️⃣ BIGGEST DISAGREEMENTS:\")\n",
        "        if differences_df is not None and len(differences_df) > 0:\n",
        "            top_diff = differences_df.iloc[0]\n",
        "            print(f\"   Most disagreed pair: {top_diff['Topic 1']} ↔ {top_diff['Topic 2']}\")\n",
        "            print(f\"   {embedder_names[0]}: {top_diff[f'{embedder_names[0]} Similarity']:.3f}\")\n",
        "            print(f\"   {embedder_names[1]}: {top_diff[f'{embedder_names[1]} Similarity']:.3f}\")\n",
        "            print(f\"   Difference: {top_diff['Difference']:+.3f}\")\n",
        "        \n",
        "        print(f\"\\n3️⃣ WHAT THIS MEANS:\")\n",
        "        print(\"   🧠 Different embedders have different 'opinions' about semantic similarity\")\n",
        "        print(\"   🎯 Choice of embedder can significantly impact your RAG system's retrieval\")\n",
        "        print(\"   ⚖️  Consider testing multiple embedders for your specific use case\")\n",
        "        print(\"   📊 Visualizations help understand embedder behavior before deployment\")\n",
        "        \n",
        "        print(f\"\\n4️⃣ PRACTICAL RECOMMENDATIONS:\")\n",
        "        best_embedder = max(clustering_analysis.keys(), \n",
        "                          key=lambda x: clustering_analysis[x]['overall_clustering_score'])\n",
        "        print(f\"   🏆 {best_embedder} showed better domain clustering in this example\")\n",
        "        print(\"   🔬 Always test embedders on YOUR specific domain and use case\")\n",
        "        print(\"   🎨 Use dimensionality reduction (t-SNE/PCA) to visualize embeddings\")\n",
        "        print(\"   📈 Consider hybrid approaches or ensemble methods\")\n",
        "    \n",
        "    else:\n",
        "        print(\"⚠️  Need at least 2 embedders to generate meaningful comparisons\")\n",
        "    \n",
        "    print(\"\\n\" + \"=\" * 50)\n",
        "    print(\"🎉 Embedding comparison complete!\")\n",
        "\n",
        "do_summarize_insights(similarity_matrices, clustering_analysis, differences_df)\n"
      ]
    },
    {
      "cell_type": "markdown",
      "metadata": {
        "vscode": {
          "languageId": "raw"
        }
      },
      "source": [
        "## 🚀 Next Steps & Extensions\n",
        "\n",
        "Want to explore further? Try these ideas:\n",
        "\n",
        "### 🔬 **Experiment Ideas:**\n",
        "1. **Add more embedders** - Try Anthropic, Cohere, or other HuggingFace models\n",
        "2. **Domain-specific topics** - Use topics from your specific field (medicine, law, finance)\n",
        "3. **Different text lengths** - Compare single words vs sentences vs paragraphs\n",
        "4. **Multilingual comparison** - See how embedders handle different languages\n",
        "\n",
        "### 📊 **Advanced Analysis:**\n",
        "1. **Clustering algorithms** - Apply K-means, hierarchical clustering\n",
        "2. **Dimensionality techniques** - Try UMAP, PCA instead of t-SNE\n",
        "3. **Statistical tests** - Measure statistical significance of differences\n",
        "4. **Retrieval evaluation** - Test actual RAG performance with different embedders\n",
        "\n",
        "### 🛠️ **Implementation Tips:**\n",
        "- Save embeddings to avoid re-computation\n",
        "- Use batch processing for large datasets\n",
        "- Consider GPU acceleration for large models\n",
        "- Cache similarity matrices for repeated analysis\n",
        "\n",
        "---\n",
        "\n",
        "**🎯 Remember**: The \"best\" embedder depends entirely on your specific use case, domain, and requirements. Always test with your own data!\n"
      ]
    },
    {
      "cell_type": "markdown",
      "metadata": {},
      "source": []
    }
  ],
  "metadata": {
    "kernelspec": {
      "display_name": ".venv",
      "language": "python",
      "name": "python3"
    },
    "language_info": {
      "codemirror_mode": {
        "name": "ipython",
        "version": 3
      },
      "file_extension": ".py",
      "mimetype": "text/x-python",
      "name": "python",
      "nbconvert_exporter": "python",
      "pygments_lexer": "ipython3",
      "version": "3.13.5"
    }
  },
  "nbformat": 4,
  "nbformat_minor": 2
}
