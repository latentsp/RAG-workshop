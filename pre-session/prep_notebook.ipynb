{
 "cells": [
  {
   "cell_type": "code",
   "execution_count": 1,
   "id": "615c501e",
   "metadata": {},
   "outputs": [],
   "source": [
    "import os\n",
    "# Load environment variables from .env file\n",
    "from dotenv import load_dotenv\n",
    "load_dotenv()  # This will load variables from a .env file into the environment\n",
    "\n",
    "# Get your OpenAI API key from the environment\n",
    "openai_api_key = os.getenv(\"OPENAI_API_KEY\")\n",
    "if not openai_api_key:\n",
    "    raise ValueError(\"OPENAI_API_KEY not found in environment. Please set it in your .env file.\")\n"
   ]
  },
  {
   "cell_type": "code",
   "execution_count": 2,
   "id": "3b679529",
   "metadata": {},
   "outputs": [
    {
     "name": "stdout",
     "output_type": "stream",
     "text": [
      "LLM Response: Hello! I'm just a computer program, so I don't have feelings, but I'm here and ready to assist you with any questions or tasks you may have. How can I help you today?\n"
     ]
    }
   ],
   "source": [
    "def do_invoke_llm():\n",
    "    from langchain_openai import ChatOpenAI\n",
    "    from langchain_core.messages import HumanMessage\n",
    "\n",
    "    llm = ChatOpenAI(openai_api_key=openai_api_key)\n",
    "    response = llm.invoke([HumanMessage(content=\"Hello, LLM! How are you?\")])\n",
    "    print(\"LLM Response:\", response.content)\n",
    "\n",
    "do_invoke_llm()\n"
   ]
  },
  {
   "cell_type": "code",
   "execution_count": null,
   "id": "cc98f833",
   "metadata": {},
   "outputs": [],
   "source": []
  }
 ],
 "metadata": {
  "kernelspec": {
   "display_name": ".venv",
   "language": "python",
   "name": "python3"
  },
  "language_info": {
   "codemirror_mode": {
    "name": "ipython",
    "version": 3
   },
   "file_extension": ".py",
   "mimetype": "text/x-python",
   "name": "python",
   "nbconvert_exporter": "python",
   "pygments_lexer": "ipython3",
   "version": "3.13.5"
  }
 },
 "nbformat": 4,
 "nbformat_minor": 5
}
